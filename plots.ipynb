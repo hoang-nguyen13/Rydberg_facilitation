using LaTeXStrings
using JLD2
using LinearAlgebra
using Statistics
using DifferentialEquations
using Random
using ArgParse
using Plots
using Interpolations

# Parameters
nAtoms = 16
Δ = 2000
γ_values = [1e-3]
Ω_values = vcat(0:1:15, 15.25:0.15:22.45, 25:1:30)
case = "2"
Γ = 1.0
script_dir = @__DIR__
γ = 1e-3
γ_str = string(γ)
γ_str_alt = endswith(γ_str, ".0") ? chop(γ_str, tail=2) : γ_str
data_folder = joinpath(script_dir, "results_data/atoms=$(nAtoms),Δ=$(Δ),γ=$γ_str")

# Plot 1: Szs vs Time for each Ω
plt1 = plot(
    xlabel="tΓ",
    ylabel="Szs Mean",
    title="$nAtoms atoms, Γ = $Γ, γ = $γ, Δ = $Δ",
    legend=:outerright,
    size=(1000, 600),
    right_margin=10Plots.mm
)
last_Szs_mean_values = Float64[]

for Ω in Ω_values
    file = joinpath(data_folder, "sz_mean_steady_for_$(case)D,Ω=$(Ω),Δ=$(Δ),γ=$γ_str.jld2")
    file_alt = joinpath(data_folder, "sz_mean_steady_for_$(case)D,Ω=$(Ω),Δ=$(Δ),γ=$γ_str_alt.jld2")

    file_to_load = ""
    if isfile(file)
        file_to_load = file
    elseif isfile(file_alt)
        file_to_load = file_alt
    end

    if file_to_load != ""
        try
            data = JLD2.load(file_to_load)
            if haskey(data, "Szs")
                Szs = data["Szs"]
                t = data["t"]
                if ndims(Szs) == 2 && size(Szs, 2) == 1  # Check for (400, 1)
                    Szs_1d = Szs[:, 1]  # Extract as 1D array
                    plot!(plt1, t, Szs_1d, label="Ω = $Ω")
                    push!(last_Szs_mean_values, Szs_1d[end])
                else
                    println("Unexpected dimensions for Szs at Ω = $Ω: $(size(Szs))")
                end
            else
                println("Szs key not found in file for Ω = $Ω.")
            end
        catch e
            println("Error loading $file_to_load for Ω = $Ω: $e. Skipping this Ω.")
        end
    else
        println("File not found for Ω = $Ω, skipping this Ω value.")
    end
end
display(plt1)

# Plot 2: Last Szs Mean vs Ω
plt2 = plot(
    Ω_values,
    last_Szs_mean_values,
    seriestype=:scatter,
    xlabel="Ω",
    ylabel="Last Szs Mean",
    title="Last Szs Mean vs Ω",
    legend=:outerright,
    size=(1000, 600),
    right_margin=10Plots.mm
)
plot!(Ω_values, last_Szs_mean_values, seriestype=:line, label="", lw=2)
display(plt2)

# Clean up
plt1 = nothing
plt2 = nothing
GC.gc()
